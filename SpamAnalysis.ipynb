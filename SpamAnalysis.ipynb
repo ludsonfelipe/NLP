{
 "cells": [
  {
   "attachments": {},
   "cell_type": "markdown",
   "metadata": {},
   "source": [
    "# Spam Detection Analysis\n",
    "\n",
    "In this Jupyter notebook, we will perform a spam detection analysis on a dataset containing SMS messages labeled as spam or not spam. The dataset contains four columns, but we will only use the columns v1 (label: spam or not spam) and v2 (the SMS message)."
   ]
  },
  {
   "attachments": {},
   "cell_type": "markdown",
   "metadata": {},
   "source": [
    "## Dataset\n",
    "\n",
    "The dataset we will be using is the [SMS Spam Collection](https://www.kaggle.com/datasets/uciml/sms-spam-collection-dataset/code?resource=download), which contains 5,574 SMS messages labeled as spam or not spam. The dataset can be downloaded from the UCI Machine Learning Repository."
   ]
  },
  {
   "cell_type": "code",
   "execution_count": 1,
   "metadata": {},
   "outputs": [
    {
     "name": "stdout",
     "output_type": "stream",
     "text": [
      "Columns in the dataset: ['v1', 'v2', 'Unnamed: 2', 'Unnamed: 3', 'Unnamed: 4']\n",
      "\n",
      "Shape of the dataset: (5572, 5)\n"
     ]
    }
   ],
   "source": [
    "import pandas as pd\n",
    "\n",
    "df = pd.read_csv('data/spam.csv', encoding='ISO-8859-1')\n",
    "\n",
    "\n",
    "print(\"Columns in the dataset:\", df.columns.tolist())\n",
    "\n",
    "print(\"\\nShape of the dataset:\", df.shape)\n"
   ]
  },
  {
   "attachments": {},
   "cell_type": "markdown",
   "metadata": {},
   "source": [
    "## Data Cleaning\n",
    "1. Understanding the columns"
   ]
  },
  {
   "attachments": {},
   "cell_type": "markdown",
   "metadata": {},
   "source": [
    "We have 5 columns in this dataset where three of them seem to have only nan"
   ]
  },
  {
   "cell_type": "code",
   "execution_count": 2,
   "metadata": {},
   "outputs": [
    {
     "data": {
      "text/html": [
       "<div>\n",
       "<style scoped>\n",
       "    .dataframe tbody tr th:only-of-type {\n",
       "        vertical-align: middle;\n",
       "    }\n",
       "\n",
       "    .dataframe tbody tr th {\n",
       "        vertical-align: top;\n",
       "    }\n",
       "\n",
       "    .dataframe thead th {\n",
       "        text-align: right;\n",
       "    }\n",
       "</style>\n",
       "<table border=\"1\" class=\"dataframe\">\n",
       "  <thead>\n",
       "    <tr style=\"text-align: right;\">\n",
       "      <th></th>\n",
       "      <th>v1</th>\n",
       "      <th>v2</th>\n",
       "      <th>Unnamed: 2</th>\n",
       "      <th>Unnamed: 3</th>\n",
       "      <th>Unnamed: 4</th>\n",
       "    </tr>\n",
       "  </thead>\n",
       "  <tbody>\n",
       "    <tr>\n",
       "      <th>0</th>\n",
       "      <td>ham</td>\n",
       "      <td>Go until jurong point, crazy.. Available only ...</td>\n",
       "      <td>NaN</td>\n",
       "      <td>NaN</td>\n",
       "      <td>NaN</td>\n",
       "    </tr>\n",
       "    <tr>\n",
       "      <th>1</th>\n",
       "      <td>ham</td>\n",
       "      <td>Ok lar... Joking wif u oni...</td>\n",
       "      <td>NaN</td>\n",
       "      <td>NaN</td>\n",
       "      <td>NaN</td>\n",
       "    </tr>\n",
       "    <tr>\n",
       "      <th>2</th>\n",
       "      <td>spam</td>\n",
       "      <td>Free entry in 2 a wkly comp to win FA Cup fina...</td>\n",
       "      <td>NaN</td>\n",
       "      <td>NaN</td>\n",
       "      <td>NaN</td>\n",
       "    </tr>\n",
       "    <tr>\n",
       "      <th>3</th>\n",
       "      <td>ham</td>\n",
       "      <td>U dun say so early hor... U c already then say...</td>\n",
       "      <td>NaN</td>\n",
       "      <td>NaN</td>\n",
       "      <td>NaN</td>\n",
       "    </tr>\n",
       "    <tr>\n",
       "      <th>4</th>\n",
       "      <td>ham</td>\n",
       "      <td>Nah I don't think he goes to usf, he lives aro...</td>\n",
       "      <td>NaN</td>\n",
       "      <td>NaN</td>\n",
       "      <td>NaN</td>\n",
       "    </tr>\n",
       "  </tbody>\n",
       "</table>\n",
       "</div>"
      ],
      "text/plain": [
       "     v1                                                 v2 Unnamed: 2  \\\n",
       "0   ham  Go until jurong point, crazy.. Available only ...        NaN   \n",
       "1   ham                      Ok lar... Joking wif u oni...        NaN   \n",
       "2  spam  Free entry in 2 a wkly comp to win FA Cup fina...        NaN   \n",
       "3   ham  U dun say so early hor... U c already then say...        NaN   \n",
       "4   ham  Nah I don't think he goes to usf, he lives aro...        NaN   \n",
       "\n",
       "  Unnamed: 3 Unnamed: 4  \n",
       "0        NaN        NaN  \n",
       "1        NaN        NaN  \n",
       "2        NaN        NaN  \n",
       "3        NaN        NaN  \n",
       "4        NaN        NaN  "
      ]
     },
     "metadata": {},
     "output_type": "display_data"
    }
   ],
   "source": [
    "display(df.head(5))"
   ]
  },
  {
   "attachments": {},
   "cell_type": "markdown",
   "metadata": {},
   "source": [
    "But in the columns with nans also have lines with values, let's investigate it"
   ]
  },
  {
   "cell_type": "code",
   "execution_count": 3,
   "metadata": {},
   "outputs": [
    {
     "name": "stdout",
     "output_type": "stream",
     "text": [
      "Count of nan values:\n",
      " v1               0\n",
      "v2               0\n",
      "Unnamed: 2    5522\n",
      "Unnamed: 3    5560\n",
      "Unnamed: 4    5566\n",
      "dtype: int64\n"
     ]
    }
   ],
   "source": [
    "print('Count of nan values:\\n', df.isna().sum())"
   ]
  },
  {
   "attachments": {},
   "cell_type": "markdown",
   "metadata": {},
   "source": [
    "Showing the values in the nan columns"
   ]
  },
  {
   "cell_type": "code",
   "execution_count": 4,
   "metadata": {},
   "outputs": [
    {
     "name": "stdout",
     "output_type": "stream",
     "text": [
      "\n",
      "Not nans in the Unnamed: 2\n"
     ]
    },
    {
     "data": {
      "text/html": [
       "<div>\n",
       "<style scoped>\n",
       "    .dataframe tbody tr th:only-of-type {\n",
       "        vertical-align: middle;\n",
       "    }\n",
       "\n",
       "    .dataframe tbody tr th {\n",
       "        vertical-align: top;\n",
       "    }\n",
       "\n",
       "    .dataframe thead th {\n",
       "        text-align: right;\n",
       "    }\n",
       "</style>\n",
       "<table border=\"1\" class=\"dataframe\">\n",
       "  <thead>\n",
       "    <tr style=\"text-align: right;\">\n",
       "      <th></th>\n",
       "      <th>v1</th>\n",
       "      <th>v2</th>\n",
       "      <th>Unnamed: 2</th>\n",
       "      <th>Unnamed: 3</th>\n",
       "      <th>Unnamed: 4</th>\n",
       "    </tr>\n",
       "  </thead>\n",
       "  <tbody>\n",
       "    <tr>\n",
       "      <th>95</th>\n",
       "      <td>spam</td>\n",
       "      <td>Your free ringtone is waiting to be collected....</td>\n",
       "      <td>PO Box 5249</td>\n",
       "      <td>MK17 92H. 450Ppw 16\"</td>\n",
       "      <td>NaN</td>\n",
       "    </tr>\n",
       "    <tr>\n",
       "      <th>281</th>\n",
       "      <td>ham</td>\n",
       "      <td>\\Wen u miss someone</td>\n",
       "      <td>the person is definitely special for u..... B...</td>\n",
       "      <td>why to miss them</td>\n",
       "      <td>just Keep-in-touch\\\" gdeve..\"</td>\n",
       "    </tr>\n",
       "    <tr>\n",
       "      <th>444</th>\n",
       "      <td>ham</td>\n",
       "      <td>\\HEY HEY WERETHE MONKEESPEOPLE SAY WE MONKEYAR...</td>\n",
       "      <td>HOWU DOIN? FOUNDURSELF A JOBYET SAUSAGE?LOVE ...</td>\n",
       "      <td>NaN</td>\n",
       "      <td>NaN</td>\n",
       "    </tr>\n",
       "    <tr>\n",
       "      <th>671</th>\n",
       "      <td>spam</td>\n",
       "      <td>SMS. ac sun0819 posts HELLO:\\You seem cool</td>\n",
       "      <td>wanted to say hi. HI!!!\\\" Stop? Send STOP to ...</td>\n",
       "      <td>NaN</td>\n",
       "      <td>NaN</td>\n",
       "    </tr>\n",
       "    <tr>\n",
       "      <th>710</th>\n",
       "      <td>ham</td>\n",
       "      <td>Height of Confidence: All the Aeronautics prof...</td>\n",
       "      <td>this wont even start........ Datz confidence..\"</td>\n",
       "      <td>NaN</td>\n",
       "      <td>NaN</td>\n",
       "    </tr>\n",
       "  </tbody>\n",
       "</table>\n",
       "</div>"
      ],
      "text/plain": [
       "       v1                                                 v2  \\\n",
       "95   spam  Your free ringtone is waiting to be collected....   \n",
       "281   ham                                \\Wen u miss someone   \n",
       "444   ham  \\HEY HEY WERETHE MONKEESPEOPLE SAY WE MONKEYAR...   \n",
       "671  spam         SMS. ac sun0819 posts HELLO:\\You seem cool   \n",
       "710   ham  Height of Confidence: All the Aeronautics prof...   \n",
       "\n",
       "                                            Unnamed: 2             Unnamed: 3  \\\n",
       "95                                         PO Box 5249   MK17 92H. 450Ppw 16\"   \n",
       "281   the person is definitely special for u..... B...       why to miss them   \n",
       "444   HOWU DOIN? FOUNDURSELF A JOBYET SAUSAGE?LOVE ...                    NaN   \n",
       "671   wanted to say hi. HI!!!\\\" Stop? Send STOP to ...                    NaN   \n",
       "710    this wont even start........ Datz confidence..\"                    NaN   \n",
       "\n",
       "                         Unnamed: 4  \n",
       "95                              NaN  \n",
       "281   just Keep-in-touch\\\" gdeve..\"  \n",
       "444                             NaN  \n",
       "671                             NaN  \n",
       "710                             NaN  "
      ]
     },
     "metadata": {},
     "output_type": "display_data"
    },
    {
     "name": "stdout",
     "output_type": "stream",
     "text": [
      "\n",
      "Not nans in the Unnamed: 3\n"
     ]
    },
    {
     "data": {
      "text/html": [
       "<div>\n",
       "<style scoped>\n",
       "    .dataframe tbody tr th:only-of-type {\n",
       "        vertical-align: middle;\n",
       "    }\n",
       "\n",
       "    .dataframe tbody tr th {\n",
       "        vertical-align: top;\n",
       "    }\n",
       "\n",
       "    .dataframe thead th {\n",
       "        text-align: right;\n",
       "    }\n",
       "</style>\n",
       "<table border=\"1\" class=\"dataframe\">\n",
       "  <thead>\n",
       "    <tr style=\"text-align: right;\">\n",
       "      <th></th>\n",
       "      <th>v1</th>\n",
       "      <th>v2</th>\n",
       "      <th>Unnamed: 2</th>\n",
       "      <th>Unnamed: 3</th>\n",
       "      <th>Unnamed: 4</th>\n",
       "    </tr>\n",
       "  </thead>\n",
       "  <tbody>\n",
       "    <tr>\n",
       "      <th>95</th>\n",
       "      <td>spam</td>\n",
       "      <td>Your free ringtone is waiting to be collected....</td>\n",
       "      <td>PO Box 5249</td>\n",
       "      <td>MK17 92H. 450Ppw 16\"</td>\n",
       "      <td>NaN</td>\n",
       "    </tr>\n",
       "    <tr>\n",
       "      <th>281</th>\n",
       "      <td>ham</td>\n",
       "      <td>\\Wen u miss someone</td>\n",
       "      <td>the person is definitely special for u..... B...</td>\n",
       "      <td>why to miss them</td>\n",
       "      <td>just Keep-in-touch\\\" gdeve..\"</td>\n",
       "    </tr>\n",
       "    <tr>\n",
       "      <th>899</th>\n",
       "      <td>spam</td>\n",
       "      <td>Your free ringtone is waiting to be collected....</td>\n",
       "      <td>PO Box 5249</td>\n",
       "      <td>MK17 92H. 450Ppw 16\"</td>\n",
       "      <td>NaN</td>\n",
       "    </tr>\n",
       "    <tr>\n",
       "      <th>1038</th>\n",
       "      <td>ham</td>\n",
       "      <td>Edison has rightly said, \\A fool can ask more ...</td>\n",
       "      <td>GN</td>\n",
       "      <td>GE</td>\n",
       "      <td>GNT:-)\"</td>\n",
       "    </tr>\n",
       "    <tr>\n",
       "      <th>2170</th>\n",
       "      <td>ham</td>\n",
       "      <td>\\CAN I PLEASE COME UP NOW IMIN TOWN.DONTMATTER...</td>\n",
       "      <td>JUST REALLYNEED 2DOCD.PLEASE DONTPLEASE DONTIG...</td>\n",
       "      <td>U NO THECD ISV.IMPORTANT TOME 4 2MORO\\\"\"</td>\n",
       "      <td>NaN</td>\n",
       "    </tr>\n",
       "  </tbody>\n",
       "</table>\n",
       "</div>"
      ],
      "text/plain": [
       "        v1                                                 v2  \\\n",
       "95    spam  Your free ringtone is waiting to be collected....   \n",
       "281    ham                                \\Wen u miss someone   \n",
       "899   spam  Your free ringtone is waiting to be collected....   \n",
       "1038   ham  Edison has rightly said, \\A fool can ask more ...   \n",
       "2170   ham  \\CAN I PLEASE COME UP NOW IMIN TOWN.DONTMATTER...   \n",
       "\n",
       "                                             Unnamed: 2  \\\n",
       "95                                          PO Box 5249   \n",
       "281    the person is definitely special for u..... B...   \n",
       "899                                         PO Box 5249   \n",
       "1038                                                 GN   \n",
       "2170  JUST REALLYNEED 2DOCD.PLEASE DONTPLEASE DONTIG...   \n",
       "\n",
       "                                    Unnamed: 3                      Unnamed: 4  \n",
       "95                        MK17 92H. 450Ppw 16\"                             NaN  \n",
       "281                           why to miss them   just Keep-in-touch\\\" gdeve..\"  \n",
       "899                       MK17 92H. 450Ppw 16\"                             NaN  \n",
       "1038                                        GE                         GNT:-)\"  \n",
       "2170  U NO THECD ISV.IMPORTANT TOME 4 2MORO\\\"\"                             NaN  "
      ]
     },
     "metadata": {},
     "output_type": "display_data"
    },
    {
     "name": "stdout",
     "output_type": "stream",
     "text": [
      "\n",
      "Not nans in the Unnamed: 4\n"
     ]
    },
    {
     "data": {
      "text/html": [
       "<div>\n",
       "<style scoped>\n",
       "    .dataframe tbody tr th:only-of-type {\n",
       "        vertical-align: middle;\n",
       "    }\n",
       "\n",
       "    .dataframe tbody tr th {\n",
       "        vertical-align: top;\n",
       "    }\n",
       "\n",
       "    .dataframe thead th {\n",
       "        text-align: right;\n",
       "    }\n",
       "</style>\n",
       "<table border=\"1\" class=\"dataframe\">\n",
       "  <thead>\n",
       "    <tr style=\"text-align: right;\">\n",
       "      <th></th>\n",
       "      <th>v1</th>\n",
       "      <th>v2</th>\n",
       "      <th>Unnamed: 2</th>\n",
       "      <th>Unnamed: 3</th>\n",
       "      <th>Unnamed: 4</th>\n",
       "    </tr>\n",
       "  </thead>\n",
       "  <tbody>\n",
       "    <tr>\n",
       "      <th>281</th>\n",
       "      <td>ham</td>\n",
       "      <td>\\Wen u miss someone</td>\n",
       "      <td>the person is definitely special for u..... B...</td>\n",
       "      <td>why to miss them</td>\n",
       "      <td>just Keep-in-touch\\\" gdeve..\"</td>\n",
       "    </tr>\n",
       "    <tr>\n",
       "      <th>1038</th>\n",
       "      <td>ham</td>\n",
       "      <td>Edison has rightly said, \\A fool can ask more ...</td>\n",
       "      <td>GN</td>\n",
       "      <td>GE</td>\n",
       "      <td>GNT:-)\"</td>\n",
       "    </tr>\n",
       "    <tr>\n",
       "      <th>2255</th>\n",
       "      <td>ham</td>\n",
       "      <td>I just lov this line: \\Hurt me with the truth</td>\n",
       "      <td>I don't mind</td>\n",
       "      <td>i wil tolerat.bcs ur my someone..... But</td>\n",
       "      <td>Never comfort me with a lie\\\" gud ni8 and swe...</td>\n",
       "    </tr>\n",
       "    <tr>\n",
       "      <th>3525</th>\n",
       "      <td>ham</td>\n",
       "      <td>\\HEY BABE! FAR 2 SPUN-OUT 2 SPK AT DA MO... DE...</td>\n",
       "      <td>HAD A COOL NYTHO</td>\n",
       "      <td>TX 4 FONIN HON</td>\n",
       "      <td>CALL 2MWEN IM BK FRMCLOUD 9! J X\\\"\"</td>\n",
       "    </tr>\n",
       "    <tr>\n",
       "      <th>4668</th>\n",
       "      <td>ham</td>\n",
       "      <td>When I was born, GOD said, \\Oh No! Another IDI...</td>\n",
       "      <td>GOD said</td>\n",
       "      <td>\\\"OH No! COMPETITION\\\". Who knew</td>\n",
       "      <td>one day these two will become FREINDS FOREVER!\"</td>\n",
       "    </tr>\n",
       "  </tbody>\n",
       "</table>\n",
       "</div>"
      ],
      "text/plain": [
       "       v1                                                 v2  \\\n",
       "281   ham                                \\Wen u miss someone   \n",
       "1038  ham  Edison has rightly said, \\A fool can ask more ...   \n",
       "2255  ham      I just lov this line: \\Hurt me with the truth   \n",
       "3525  ham  \\HEY BABE! FAR 2 SPUN-OUT 2 SPK AT DA MO... DE...   \n",
       "4668  ham  When I was born, GOD said, \\Oh No! Another IDI...   \n",
       "\n",
       "                                             Unnamed: 2  \\\n",
       "281    the person is definitely special for u..... B...   \n",
       "1038                                                 GN   \n",
       "2255                                       I don't mind   \n",
       "3525                                   HAD A COOL NYTHO   \n",
       "4668                                           GOD said   \n",
       "\n",
       "                                    Unnamed: 3  \\\n",
       "281                           why to miss them   \n",
       "1038                                        GE   \n",
       "2255  i wil tolerat.bcs ur my someone..... But   \n",
       "3525                            TX 4 FONIN HON   \n",
       "4668          \\\"OH No! COMPETITION\\\". Who knew   \n",
       "\n",
       "                                             Unnamed: 4  \n",
       "281                       just Keep-in-touch\\\" gdeve..\"  \n",
       "1038                                            GNT:-)\"  \n",
       "2255   Never comfort me with a lie\\\" gud ni8 and swe...  \n",
       "3525                CALL 2MWEN IM BK FRMCLOUD 9! J X\\\"\"  \n",
       "4668    one day these two will become FREINDS FOREVER!\"  "
      ]
     },
     "metadata": {},
     "output_type": "display_data"
    }
   ],
   "source": [
    "print('\\nNot nans in the Unnamed: 2')\n",
    "display(df[~df['Unnamed: 2'].isna()].head(5))\n",
    "\n",
    "print('\\nNot nans in the Unnamed: 3')\n",
    "display(df[~df['Unnamed: 3'].isna()].head(5))\n",
    "\n",
    "print('\\nNot nans in the Unnamed: 4')\n",
    "display(df[~df['Unnamed: 4'].isna()].head(5))"
   ]
  },
  {
   "attachments": {},
   "cell_type": "markdown",
   "metadata": {},
   "source": [
    "The first impression is that some of the text appears to have been broken into columns. Let's see a sample"
   ]
  },
  {
   "cell_type": "code",
   "execution_count": 5,
   "metadata": {},
   "outputs": [
    {
     "name": "stdout",
     "output_type": "stream",
     "text": [
      "\\Wen u miss someone the person is definitely special for u..... But if the person is so special why to miss them just Keep-in-touch\\\" gdeve..\"\n"
     ]
    }
   ],
   "source": [
    "full_message_281 = df.loc[[281]]\n",
    "full_message_281['full_message_281'] = full_message_281['v2']+full_message_281['Unnamed: 2']+full_message_281['Unnamed: 3']+full_message_281['Unnamed: 4']\n",
    "print(full_message_281.iloc[0,5])"
   ]
  },
  {
   "attachments": {},
   "cell_type": "markdown",
   "metadata": {},
   "source": [
    "As we can see the unnamed column contains values ​​that can be joined to v2 to complete the sentences. Let's join it"
   ]
  },
  {
   "cell_type": "code",
   "execution_count": 6,
   "metadata": {},
   "outputs": [],
   "source": [
    "# Concatenate the strings in the v2 column with the non-null values in the Unnamed columns\n",
    "df['concated_sentence'] = df['v2'].fillna('') + df['Unnamed: 2'].fillna('') + df['Unnamed: 3'].fillna('') + df['Unnamed: 4'].fillna('')"
   ]
  },
  {
   "attachments": {},
   "cell_type": "markdown",
   "metadata": {},
   "source": [
    "Now we can use only the columns that is important to us, and rename them"
   ]
  },
  {
   "cell_type": "code",
   "execution_count": 7,
   "metadata": {},
   "outputs": [],
   "source": [
    "df = df[['concated_sentence', 'v1']]\n",
    "df.columns = ['sentences','target']"
   ]
  },
  {
   "attachments": {},
   "cell_type": "markdown",
   "metadata": {},
   "source": [
    "2. Cleaning the sentences and understanding the data"
   ]
  },
  {
   "attachments": {},
   "cell_type": "markdown",
   "metadata": {},
   "source": [
    "First let's investigate the distribuition of our data"
   ]
  },
  {
   "cell_type": "code",
   "execution_count": 8,
   "metadata": {},
   "outputs": [
    {
     "data": {
      "image/png": "[encoded data removed]",
      "text/plain": [
       "<Figure size 432x288 with 1 Axes>"
      ]
     },
     "metadata": {
      "needs_background": "light"
     },
     "output_type": "display_data"
    }
   ],
   "source": [
    "import seaborn as sns\n",
    "\n",
    "sns.countplot(x='target', data=df);"
   ]
  },
  {
   "attachments": {},
   "cell_type": "markdown",
   "metadata": {},
   "source": [
    "We have more ham messages than spam messages, it's a bad signal, because our dataset is unbalanced and it can prejudice some analysis and machine learning models."
   ]
  },
  {
   "cell_type": "code",
   "execution_count": 9,
   "metadata": {},
   "outputs": [
    {
     "name": "stdout",
     "output_type": "stream",
     "text": [
      "Total duplicated: 403\n",
      "Total spam duplicated: 94\n",
      "Total ham duplicated: 309\n"
     ]
    }
   ],
   "source": [
    "print('Total duplicated:', df.duplicated().sum())\n",
    "\n",
    "print('Total spam duplicated:', df[df['target']=='spam'].duplicated().sum())\n",
    "\n",
    "print('Total ham duplicated:', df[df['target']=='ham'].duplicated().sum())"
   ]
  },
  {
   "attachments": {},
   "cell_type": "markdown",
   "metadata": {},
   "source": [
    "And also we have some duplicated data, that decrease even more our spam target, let's remove it"
   ]
  },
  {
   "cell_type": "code",
   "execution_count": 10,
   "metadata": {},
   "outputs": [],
   "source": [
    "df = df.drop_duplicates()"
   ]
  },
  {
   "attachments": {},
   "cell_type": "markdown",
   "metadata": {},
   "source": [
    "Now let's clean up our texts, standardizing them, removing abbreviations and putting everything in lowercase"
   ]
  },
  {
   "cell_type": "code",
   "execution_count": 11,
   "metadata": {},
   "outputs": [],
   "source": [
    "df['sentences'] = df['sentences'].str.lower()"
   ]
  },
  {
   "cell_type": "code",
   "execution_count": 12,
   "metadata": {},
   "outputs": [],
   "source": [
    "import re\n",
    "\n",
    "def expand_contractions(text):\n",
    "    # Define a dictionary of contractions and their expansions\n",
    "    contractions = {\n",
    "        \"ain't\": \"am not\",\n",
    "        \"aren't\": \"are not\",\n",
    "        \"can't\": \"cannot\",\n",
    "        \"couldn't\": \"could not\",\n",
    "        \"didn't\": \"did not\",\n",
    "        \"doesn't\": \"does not\",\n",
    "        \"don't\": \"do not\",\n",
    "        \"hadn't\": \"had not\",\n",
    "        \"hasn't\": \"has not\",\n",
    "        \"haven't\": \"have not\",\n",
    "        \"he'd\": \"he would\",\n",
    "        \"he'll\": \"he will\",\n",
    "        \"he's\": \"he is\",\n",
    "        \"i'd\": \"I would\",\n",
    "        \"i'll\": \"I will\",\n",
    "        \"i'm\": \"I am\",\n",
    "        \"i've\": \"I have\",\n",
    "        \"isn't\": \"is not\",\n",
    "        \"it's\": \"it is\",\n",
    "        \"let's\": \"let us\",\n",
    "        \"mightn't\": \"might not\",\n",
    "        \"mustn't\": \"must not\",\n",
    "        \"shan't\": \"shall not\",\n",
    "        \"she'd\": \"she would\",\n",
    "        \"she'll\": \"she will\",\n",
    "        \"she's\": \"she is\",\n",
    "        \"shouldn't\": \"should not\",\n",
    "        \"that's\": \"that is\",\n",
    "        \"there's\": \"there is\",\n",
    "        \"they'd\": \"they would\",\n",
    "        \"they'll\": \"they will\",\n",
    "        \"they're\": \"they are\",\n",
    "        \"they've\": \"they have\",\n",
    "        \"we'd\": \"we would\",\n",
    "        \"we're\": \"we are\",\n",
    "        \"we've\": \"we have\",\n",
    "        \"weren't\": \"were not\",\n",
    "        \"what'll\": \"what will\",\n",
    "        \"what're\": \"what are\",\n",
    "        \"what's\": \"what is\",\n",
    "        \"what've\": \"what have\",\n",
    "        \"where's\": \"where is\",\n",
    "        \"who'd\": \"who would\",\n",
    "        \"who'll\": \"who will\",\n",
    "        \"who're\": \"who are\",\n",
    "        \"who's\": \"who is\",\n",
    "        \"who've\": \"who have\",\n",
    "        \"won't\": \"will not\",\n",
    "        \"wouldn't\": \"would not\",\n",
    "        \"you'd\": \"you would\",\n",
    "        \"you'll\": \"you will\",\n",
    "        \"you're\": \"you are\",\n",
    "        \"you've\": \"you have\"\n",
    "    }\n",
    "    \n",
    "    # Create a regular expression pattern to match the contractions\n",
    "    pattern = re.compile(r'\\b(' + '|'.join(contractions.keys()) + r')\\b')\n",
    "    \n",
    "    # Replace the contractions with their expansions\n",
    "    expanded_text = pattern.sub(lambda match: contractions[match.group(0)], text)\n",
    "    \n",
    "    return expanded_text"
   ]
  },
  {
   "cell_type": "code",
   "execution_count": 13,
   "metadata": {},
   "outputs": [],
   "source": [
    "df['sentences'] = df['sentences'].apply(expand_contractions)"
   ]
  },
  {
   "attachments": {},
   "cell_type": "markdown",
   "metadata": {},
   "source": [
    "3. Now let's create the dataset for our EDA ideas and machine learning"
   ]
  },
  {
   "attachments": {},
   "cell_type": "markdown",
   "metadata": {},
   "source": [
    "For our machine learning model and some analysis we will need the dataframe balanced, so here we will use resample to balance our dataset based in the minority target"
   ]
  },
  {
   "cell_type": "code",
   "execution_count": 14,
   "metadata": {},
   "outputs": [],
   "source": [
    "from sklearn.utils import resample\n",
    "\n",
    "majority_df = df[df['target'] == 'ham']\n",
    "minority_df = df[df['target'] == 'spam']\n",
    "\n",
    "# Determine the size of the minority class\n",
    "minority_size = len(minority_df)\n",
    "\n",
    "# Undersample the majority class to the size of the minority class\n",
    "undersampled_majority_df = resample(majority_df, replace=False, n_samples=minority_size, random_state=42)\n",
    "\n",
    "# Combine the minority and undersampled majority classes\n",
    "balanced_df = pd.concat([minority_df, undersampled_majority_df])\n",
    "\n",
    "# Shuffle the rows of the balanced dataset\n",
    "balanced_df = balanced_df.sample(frac=1, random_state=5).reset_index(drop=True)"
   ]
  },
  {
   "attachments": {},
   "cell_type": "markdown",
   "metadata": {},
   "source": [
    "## Exploratory Data Analysis\n",
    "\n",
    "* The lenght of the message is important to classify the sentence ?\n",
    "* The punctuations is important ?\n",
    "* Which words that appear most in each type of message \n",
    "* N-grams"
   ]
  },
  {
   "attachments": {},
   "cell_type": "markdown",
   "metadata": {},
   "source": [
    "1. Let's identify if the size of the message represent something in the target"
   ]
  },
  {
   "cell_type": "code",
   "execution_count": 15,
   "metadata": {},
   "outputs": [
    {
     "data": {
      "image/png": "[encoded data removed]",
      "text/plain": [
       "<Figure size 423.25x360 with 1 Axes>"
      ]
     },
     "metadata": {
      "needs_background": "light"
     },
     "output_type": "display_data"
    }
   ],
   "source": [
    "balanced_df['lenght_msg'] = balanced_df['sentences'].apply(lambda x: len(x))\n",
    "sns.displot(x='lenght_msg', data=balanced_df, hue='target', kind='kde');"
   ]
  },
  {
   "attachments": {},
   "cell_type": "markdown",
   "metadata": {},
   "source": [
    "Here we can see a visual difference between the length text for both of target. Let's do some stats to confirm that it's not only visual."
   ]
  },
  {
   "cell_type": "code",
   "execution_count": 16,
   "metadata": {},
   "outputs": [
    {
     "data": {
      "text/html": [
       "<div>\n",
       "<style scoped>\n",
       "    .dataframe tbody tr th:only-of-type {\n",
       "        vertical-align: middle;\n",
       "    }\n",
       "\n",
       "    .dataframe tbody tr th {\n",
       "        vertical-align: top;\n",
       "    }\n",
       "\n",
       "    .dataframe thead tr th {\n",
       "        text-align: left;\n",
       "    }\n",
       "\n",
       "    .dataframe thead tr:last-of-type th {\n",
       "        text-align: right;\n",
       "    }\n",
       "</style>\n",
       "<table border=\"1\" class=\"dataframe\">\n",
       "  <thead>\n",
       "    <tr>\n",
       "      <th></th>\n",
       "      <th colspan=\"8\" halign=\"left\">lenght_msg</th>\n",
       "    </tr>\n",
       "    <tr>\n",
       "      <th></th>\n",
       "      <th>count</th>\n",
       "      <th>mean</th>\n",
       "      <th>std</th>\n",
       "      <th>min</th>\n",
       "      <th>25%</th>\n",
       "      <th>50%</th>\n",
       "      <th>75%</th>\n",
       "      <th>max</th>\n",
       "    </tr>\n",
       "    <tr>\n",
       "      <th>target</th>\n",
       "      <th></th>\n",
       "      <th></th>\n",
       "      <th></th>\n",
       "      <th></th>\n",
       "      <th></th>\n",
       "      <th></th>\n",
       "      <th></th>\n",
       "      <th></th>\n",
       "    </tr>\n",
       "  </thead>\n",
       "  <tbody>\n",
       "    <tr>\n",
       "      <th>ham</th>\n",
       "      <td>653.0</td>\n",
       "      <td>71.323124</td>\n",
       "      <td>58.115403</td>\n",
       "      <td>2.0</td>\n",
       "      <td>33.0</td>\n",
       "      <td>52.0</td>\n",
       "      <td>92.0</td>\n",
       "      <td>588.0</td>\n",
       "    </tr>\n",
       "    <tr>\n",
       "      <th>spam</th>\n",
       "      <td>653.0</td>\n",
       "      <td>138.245023</td>\n",
       "      <td>29.922774</td>\n",
       "      <td>13.0</td>\n",
       "      <td>132.0</td>\n",
       "      <td>149.0</td>\n",
       "      <td>157.0</td>\n",
       "      <td>224.0</td>\n",
       "    </tr>\n",
       "  </tbody>\n",
       "</table>\n",
       "</div>"
      ],
      "text/plain": [
       "       lenght_msg                                                         \n",
       "            count        mean        std   min    25%    50%    75%    max\n",
       "target                                                                    \n",
       "ham         653.0   71.323124  58.115403   2.0   33.0   52.0   92.0  588.0\n",
       "spam        653.0  138.245023  29.922774  13.0  132.0  149.0  157.0  224.0"
      ]
     },
     "execution_count": 16,
     "metadata": {},
     "output_type": "execute_result"
    }
   ],
   "source": [
    "balanced_df.groupby('target').describe()"
   ]
  },
  {
   "cell_type": "code",
   "execution_count": 17,
   "metadata": {},
   "outputs": [
    {
     "name": "stdout",
     "output_type": "stream",
     "text": [
      "t-value:  -26.161941219088025\n",
      "p-value:  1.0153616508177945e-114\n"
     ]
    }
   ],
   "source": [
    "from scipy import stats\n",
    "\n",
    "# create separate DataFrames for ham and spam messages\n",
    "ham_df = balanced_df[balanced_df['target'] == 'ham']\n",
    "spam_df = balanced_df[balanced_df['target'] == 'spam']\n",
    "\n",
    "# perform a two-sample t-test\n",
    "t, p = stats.ttest_ind(ham_df['lenght_msg'], spam_df['lenght_msg'], equal_var=False)\n",
    "\n",
    "# print the results\n",
    "print('t-value: ', t)\n",
    "print('p-value: ', p)\n"
   ]
  },
  {
   "attachments": {},
   "cell_type": "markdown",
   "metadata": {},
   "source": [
    "Our hypothesis is that spam sentences have longer texts and based on our <b>p-value 1^-114</b>, so we can reject our null hypothesis."
   ]
  },
  {
   "attachments": {},
   "cell_type": "markdown",
   "metadata": {},
   "source": [
    "2. Let's understanding about punctuations in spam sentences vs ham sentences"
   ]
  },
  {
   "cell_type": "code",
   "execution_count": 18,
   "metadata": {},
   "outputs": [],
   "source": [
    "import string\n",
    "\n",
    "# Declaring the variable with all punctuations\n",
    "punctuations = string.punctuation\n",
    "\n",
    "# Initialize counts for each punctuation mark\n",
    "spam_counts = {p: 0 for p in punctuations}\n",
    "ham_counts = {p: 0 for p in punctuations}\n",
    "\n",
    "# Loop over each message in the DataFrame\n",
    "for idx, row in balanced_df.iterrows():\n",
    "    message = row['sentences']\n",
    "    target = row['target']\n",
    "    \n",
    "    # Count the punctuation marks in the message\n",
    "    for p in punctuations:\n",
    "        count = message.count(p)\n",
    "        \n",
    "        # Add the count to the appropriate dictionary based on the target\n",
    "        if target == 'spam':\n",
    "            spam_counts[p] += count\n",
    "        else:\n",
    "            ham_counts[p] += count\n",
    "\n",
    "# Creating a dataframes with the results for ham and spam\n",
    "ham_punct_df = pd.DataFrame.from_dict(ham_counts, orient='index', columns=['ham_count'])\n",
    "spam_punct_df = pd.DataFrame.from_dict(spam_counts, orient='index', columns=['spam_count'])\n",
    "\n",
    "# Joining the dataframes\n",
    "punct_df = ham_punct_df.join(spam_punct_df, how='outer')\n",
    "\n",
    "# Sorting values\n",
    "punct_df = punct_df.sort_values(by=['ham_count', 'spam_count'], ascending=False).reset_index()"
   ]
  },
  {
   "cell_type": "code",
   "execution_count": 19,
   "metadata": {},
   "outputs": [
    {
     "data": {
      "image/png": "[encoded data removed]",
      "text/plain": [
       "<Figure size 864x432 with 1 Axes>"
      ]
     },
     "metadata": {
      "needs_background": "light"
     },
     "output_type": "display_data"
    }
   ],
   "source": [
    "import matplotlib.pyplot as plt\n",
    "\n",
    "# Create the bar plot\n",
    "fig, ax = plt.subplots(figsize=(12, 6))\n",
    "bar_width = 0.4\n",
    "p1 = ax.bar(punct_df.index - bar_width/2, punct_df['ham_count'], bar_width, color='blue', label='Ham')\n",
    "p2 = ax.bar(punct_df.index + bar_width/2, punct_df['spam_count'], bar_width, color='red', label='Spam')\n",
    "\n",
    "# Add labels, title, and legend\n",
    "ax.set_xlabel('Punctuation')\n",
    "ax.set_ylabel('Count')\n",
    "ax.set_title('Punctuation Counts by Spam/Ham')\n",
    "ax.set_xticks(punct_df.index)\n",
    "ax.set_xticklabels(punct_df['index'])\n",
    "ax.legend()\n",
    "\n",
    "plt.show()"
   ]
  },
  {
   "attachments": {},
   "cell_type": "markdown",
   "metadata": {},
   "source": [
    "In this visualization we can see that some punctuations are more used in spam message, let's see it in a different way"
   ]
  },
  {
   "cell_type": "code",
   "execution_count": 20,
   "metadata": {},
   "outputs": [
    {
     "data": {
      "text/html": [
       "<div>\n",
       "<style scoped>\n",
       "    .dataframe tbody tr th:only-of-type {\n",
       "        vertical-align: middle;\n",
       "    }\n",
       "\n",
       "    .dataframe tbody tr th {\n",
       "        vertical-align: top;\n",
       "    }\n",
       "\n",
       "    .dataframe thead th {\n",
       "        text-align: right;\n",
       "    }\n",
       "</style>\n",
       "<table border=\"1\" class=\"dataframe\">\n",
       "  <thead>\n",
       "    <tr style=\"text-align: right;\">\n",
       "      <th></th>\n",
       "      <th>index</th>\n",
       "      <th>ham_count</th>\n",
       "      <th>spam_count</th>\n",
       "      <th>difference_punctuation</th>\n",
       "    </tr>\n",
       "  </thead>\n",
       "  <tbody>\n",
       "    <tr>\n",
       "      <th>3</th>\n",
       "      <td>!</td>\n",
       "      <td>129</td>\n",
       "      <td>456</td>\n",
       "      <td>327</td>\n",
       "    </tr>\n",
       "    <tr>\n",
       "      <th>16</th>\n",
       "      <td>/</td>\n",
       "      <td>7</td>\n",
       "      <td>332</td>\n",
       "      <td>325</td>\n",
       "    </tr>\n",
       "    <tr>\n",
       "      <th>9</th>\n",
       "      <td>-</td>\n",
       "      <td>49</td>\n",
       "      <td>212</td>\n",
       "      <td>163</td>\n",
       "    </tr>\n",
       "    <tr>\n",
       "      <th>2</th>\n",
       "      <td>,</td>\n",
       "      <td>187</td>\n",
       "      <td>330</td>\n",
       "      <td>143</td>\n",
       "    </tr>\n",
       "    <tr>\n",
       "      <th>6</th>\n",
       "      <td>:</td>\n",
       "      <td>70</td>\n",
       "      <td>164</td>\n",
       "      <td>94</td>\n",
       "    </tr>\n",
       "  </tbody>\n",
       "</table>\n",
       "</div>"
      ],
      "text/plain": [
       "   index  ham_count  spam_count  difference_punctuation\n",
       "3      !        129         456                     327\n",
       "16     /          7         332                     325\n",
       "9      -         49         212                     163\n",
       "2      ,        187         330                     143\n",
       "6      :         70         164                      94"
      ]
     },
     "execution_count": 20,
     "metadata": {},
     "output_type": "execute_result"
    }
   ],
   "source": [
    "punct_df['difference_punctuation'] = punct_df['spam_count']-punct_df['ham_count']\n",
    "punct_df = punct_df.sort_values(by='difference_punctuation', ascending=False)\n",
    "punct_df.head(5)"
   ]
  },
  {
   "cell_type": "code",
   "execution_count": 21,
   "metadata": {},
   "outputs": [
    {
     "data": {
      "image/png": "[encoded data removed]",
      "text/plain": [
       "<Figure size 864x432 with 1 Axes>"
      ]
     },
     "metadata": {
      "needs_background": "light"
     },
     "output_type": "display_data"
    }
   ],
   "source": [
    "fig, ax = plt.subplots(figsize=(12, 6))\n",
    "ax.bar(punct_df['index'], punct_df['difference_punctuation'], color=['#ff7f0e'])\n",
    "ax.set_xlabel('Punctuation')\n",
    "ax.set_ylabel('Count')\n",
    "ax.set_title('Top 10 Most Common Punctuation Marks')\n",
    "ax.spines['top'].set_visible(False)\n",
    "ax.spines['right'].set_visible(False)\n",
    "plt.show()\n"
   ]
  },
  {
   "attachments": {},
   "cell_type": "markdown",
   "metadata": {},
   "source": [
    "The <b>!</b> and <b>/</b> appears so many times more in spam sentences than ham sentences. Let's see in which kind of sentences it appears"
   ]
  },
  {
   "cell_type": "code",
   "execution_count": 22,
   "metadata": {},
   "outputs": [
    {
     "data": {
      "text/plain": [
       "array(['want explicit sex in 30 secs? ring 02073162414 now! costs 20p/min',\n",
       "       'urgent! you have won a 1 week free membership in our å£100,000 prize jackpot! txt the word: claim to no: 81010 t&c www.dbuk.net lccltd pobox 4403ldnw1a7rw18',\n",
       "       'ringtone club: get the uk singles chart on your mobile each week and choose any top quality ringtone! this message is free of charge.',\n",
       "       'you 07801543489 are guaranteed the latests nokia phone, a 40gb ipod mp3 player or a å£500 prize! txt word:collect to no:83355! tc-llc ny-usa 150p/mt msgrcvd18+',\n",
       "       '09066362231 urgent! your mobile no 07xxxxxxxxx won a å£2,000 bonus caller prize on 02/06/03! this is the 2nd attempt to reach you! call 09066362231 asap!'],\n",
       "      dtype=object)"
      ]
     },
     "execution_count": 22,
     "metadata": {},
     "output_type": "execute_result"
    }
   ],
   "source": [
    "spam_msgs = balanced_df[balanced_df['target']=='spam']\n",
    "spam_msgs[spam_msgs['sentences'].str.contains('!')].tail(5)['sentences'].values"
   ]
  },
  {
   "attachments": {},
   "cell_type": "markdown",
   "metadata": {},
   "source": [
    "! associated a imperative messages, like \"urgent!\" \"asap!\""
   ]
  },
  {
   "cell_type": "code",
   "execution_count": 23,
   "metadata": {},
   "outputs": [
    {
     "data": {
      "text/plain": [
       "array(['you 07801543489 are guaranteed the latests nokia phone, a 40gb ipod mp3 player or a å£500 prize! txt word:collect to no:83355! tc-llc ny-usa 150p/mt msgrcvd18+',\n",
       "       '09066362231 urgent! your mobile no 07xxxxxxxxx won a å£2,000 bonus caller prize on 02/06/03! this is the 2nd attempt to reach you! call 09066362231 asap!',\n",
       "       'if you do not, your prize will go to another customer. t&c at www.t-c.biz 18+ 150p/min polo ltd suite 373 london w1j 6hl please call back if busy ',\n",
       "       'your credits have been topped up for http://www.bubbletext.com your renewal pin is tgxxrz',\n",
       "       'hi its lucy hubby at meetins all day fri & i will b alone at hotel u fancy cumin over? pls leave msg 2day 09099726395 lucy x callså£1/minmobsmorelkpobox177hp51fl'],\n",
       "      dtype=object)"
      ]
     },
     "execution_count": 23,
     "metadata": {},
     "output_type": "execute_result"
    }
   ],
   "source": [
    "spam_msgs[spam_msgs['sentences'].str.contains('/')].tail(5)['sentences'].values"
   ]
  },
  {
   "attachments": {},
   "cell_type": "markdown",
   "metadata": {},
   "source": [
    "/ associated a site links or fake prize dates"
   ]
  },
  {
   "cell_type": "markdown",
   "metadata": {},
   "source": [
    "3. Now let's remove the ponctuation and understand which kind of words that appear most in each type of message m"
   ]
  },
  {
   "cell_type": "code",
   "execution_count": 24,
   "metadata": {},
   "outputs": [
    {
     "data": {
      "text/html": [
       "<div>\n",
       "<style scoped>\n",
       "    .dataframe tbody tr th:only-of-type {\n",
       "        vertical-align: middle;\n",
       "    }\n",
       "\n",
       "    .dataframe tbody tr th {\n",
       "        vertical-align: top;\n",
       "    }\n",
       "\n",
       "    .dataframe thead th {\n",
       "        text-align: right;\n",
       "    }\n",
       "</style>\n",
       "<table border=\"1\" class=\"dataframe\">\n",
       "  <thead>\n",
       "    <tr style=\"text-align: right;\">\n",
       "      <th></th>\n",
       "      <th>sentences</th>\n",
       "      <th>target</th>\n",
       "      <th>lenght_msg</th>\n",
       "      <th>sentences_without_punc</th>\n",
       "    </tr>\n",
       "  </thead>\n",
       "  <tbody>\n",
       "    <tr>\n",
       "      <th>0</th>\n",
       "      <td>it only does simple arithmetic not percentages.</td>\n",
       "      <td>ham</td>\n",
       "      <td>47</td>\n",
       "      <td>it only does simple arithmetic not percentages</td>\n",
       "    </tr>\n",
       "    <tr>\n",
       "      <th>1</th>\n",
       "      <td>hard live 121 chat just 60p/min. choose your g...</td>\n",
       "      <td>spam</td>\n",
       "      <td>145</td>\n",
       "      <td>hard live 121 chat just 60pmin choose your gir...</td>\n",
       "    </tr>\n",
       "    <tr>\n",
       "      <th>2</th>\n",
       "      <td>sms. ac sun0819 posts hello:\\you seem cool wan...</td>\n",
       "      <td>spam</td>\n",
       "      <td>94</td>\n",
       "      <td>sms ac sun0819 posts helloyou seem cool wanted...</td>\n",
       "    </tr>\n",
       "    <tr>\n",
       "      <th>3</th>\n",
       "      <td>u are subscribed to the best mobile content se...</td>\n",
       "      <td>spam</td>\n",
       "      <td>132</td>\n",
       "      <td>u are subscribed to the best mobile content se...</td>\n",
       "    </tr>\n",
       "    <tr>\n",
       "      <th>4</th>\n",
       "      <td>themob&gt; check out our newest selection of cont...</td>\n",
       "      <td>spam</td>\n",
       "      <td>138</td>\n",
       "      <td>themob check out our newest selection of conte...</td>\n",
       "    </tr>\n",
       "    <tr>\n",
       "      <th>...</th>\n",
       "      <td>...</td>\n",
       "      <td>...</td>\n",
       "      <td>...</td>\n",
       "      <td>...</td>\n",
       "    </tr>\n",
       "    <tr>\n",
       "      <th>1301</th>\n",
       "      <td>your credits have been topped up for http://ww...</td>\n",
       "      <td>spam</td>\n",
       "      <td>89</td>\n",
       "      <td>your credits have been topped up for httpwwwbu...</td>\n",
       "    </tr>\n",
       "    <tr>\n",
       "      <th>1302</th>\n",
       "      <td>hows the champ just leaving glasgow!</td>\n",
       "      <td>ham</td>\n",
       "      <td>36</td>\n",
       "      <td>hows the champ just leaving glasgow</td>\n",
       "    </tr>\n",
       "    <tr>\n",
       "      <th>1303</th>\n",
       "      <td>yes, I am small kid.. and boost is the secret ...</td>\n",
       "      <td>ham</td>\n",
       "      <td>60</td>\n",
       "      <td>yes I am small kid and boost is the secret of ...</td>\n",
       "    </tr>\n",
       "    <tr>\n",
       "      <th>1304</th>\n",
       "      <td>hi its lucy hubby at meetins all day fri &amp; i w...</td>\n",
       "      <td>spam</td>\n",
       "      <td>161</td>\n",
       "      <td>hi its lucy hubby at meetins all day fri  i wi...</td>\n",
       "    </tr>\n",
       "    <tr>\n",
       "      <th>1305</th>\n",
       "      <td>good night my dear.. sleepwell&amp;amp;take care</td>\n",
       "      <td>ham</td>\n",
       "      <td>44</td>\n",
       "      <td>good night my dear sleepwellamptake care</td>\n",
       "    </tr>\n",
       "  </tbody>\n",
       "</table>\n",
       "<p>1306 rows × 4 columns</p>\n",
       "</div>"
      ],
      "text/plain": [
       "                                              sentences target  lenght_msg  \\\n",
       "0       it only does simple arithmetic not percentages.    ham          47   \n",
       "1     hard live 121 chat just 60p/min. choose your g...   spam         145   \n",
       "2     sms. ac sun0819 posts hello:\\you seem cool wan...   spam          94   \n",
       "3     u are subscribed to the best mobile content se...   spam         132   \n",
       "4     themob> check out our newest selection of cont...   spam         138   \n",
       "...                                                 ...    ...         ...   \n",
       "1301  your credits have been topped up for http://ww...   spam          89   \n",
       "1302               hows the champ just leaving glasgow!    ham          36   \n",
       "1303  yes, I am small kid.. and boost is the secret ...    ham          60   \n",
       "1304  hi its lucy hubby at meetins all day fri & i w...   spam         161   \n",
       "1305       good night my dear.. sleepwell&amp;take care    ham          44   \n",
       "\n",
       "                                 sentences_without_punc  \n",
       "0        it only does simple arithmetic not percentages  \n",
       "1     hard live 121 chat just 60pmin choose your gir...  \n",
       "2     sms ac sun0819 posts helloyou seem cool wanted...  \n",
       "3     u are subscribed to the best mobile content se...  \n",
       "4     themob check out our newest selection of conte...  \n",
       "...                                                 ...  \n",
       "1301  your credits have been topped up for httpwwwbu...  \n",
       "1302                hows the champ just leaving glasgow  \n",
       "1303  yes I am small kid and boost is the secret of ...  \n",
       "1304  hi its lucy hubby at meetins all day fri  i wi...  \n",
       "1305           good night my dear sleepwellamptake care  \n",
       "\n",
       "[1306 rows x 4 columns]"
      ]
     },
     "execution_count": 24,
     "metadata": {},
     "output_type": "execute_result"
    }
   ],
   "source": [
    "translator = str.maketrans('', '', string.punctuation)\n",
    "balanced_df['sentences_without_punc'] = balanced_df['sentences'].apply(lambda x: x.translate(translator))\n",
    "balanced_df"
   ]
  },
  {
   "cell_type": "code",
   "execution_count": 52,
   "metadata": {},
   "outputs": [
    {
     "data": {
      "image/png": "[encoded data removed]",
      "text/plain": [
       "<Figure size 720x360 with 1 Axes>"
      ]
     },
     "metadata": {
      "needs_background": "light"
     },
     "output_type": "display_data"
    },
    {
     "data": {
      "image/png": "[encoded data removed]",
      "text/plain": [
       "<Figure size 720x360 with 1 Axes>"
      ]
     },
     "metadata": {
      "needs_background": "light"
     },
     "output_type": "display_data"
    }
   ],
   "source": [
    "import nltk\n",
    "from nltk.tokenize import word_tokenize\n",
    "from nltk.probability import FreqDist\n",
    "from wordcloud import WordCloud\n",
    "from nltk.corpus import stopwords\n",
    "\n",
    "balanced_df['tokens'] = balanced_df['sentences_without_punc'].apply(word_tokenize)\n",
    "\n",
    "# Remove stopwords from the text\n",
    "stop_words = set(stopwords.words('english'))\n",
    "\n",
    "\n",
    "fdist_spam = FreqDist([word for tokens in balanced_df[balanced_df['target'] == 'spam']['tokens'] for word in tokens if word not in stop_words])\n",
    "fdist_ham = FreqDist([word for tokens in balanced_df[balanced_df['target'] == 'ham']['tokens'] for word in tokens if word not in stop_words])\n",
    "\n",
    "plt.figure(figsize=(10, 5))\n",
    "fdist_spam.plot(30, cumulative=False, title='Top 30 words in spam messages')\n",
    "plt.show()\n",
    "\n",
    "plt.figure(figsize=(10, 5))\n",
    "fdist_ham.plot(30, cumulative=False, title='Top 30 words in ham messages')\n",
    "plt.show()"
   ]
  },
  {
   "attachments": {},
   "cell_type": "markdown",
   "metadata": {},
   "source": [
    "How we can see here in our balanced dataset, the words call, free, urgent appears so many times in spam messages in otherwise normal messages like u, I, ok appears so many times in ham messages. Let's see how the words in the entire dataset works."
   ]
  },
  {
   "cell_type": "code",
   "execution_count": 26,
   "metadata": {},
   "outputs": [
    {
     "ename": "NameError",
     "evalue": "name 'stopwords' is not defined",
     "output_type": "error",
     "traceback": [
      "\u001b[1;31m---------------------------------------------------------------------------\u001b[0m",
      "\u001b[1;31mNameError\u001b[0m                                 Traceback (most recent call last)",
      "\u001b[1;32m~\\AppData\\Local\\Temp/ipykernel_17052/69597219.py\u001b[0m in \u001b[0;36m<module>\u001b[1;34m\u001b[0m\n\u001b[0;32m      4\u001b[0m \u001b[1;33m\u001b[0m\u001b[0m\n\u001b[0;32m      5\u001b[0m \u001b[1;31m# Remove stopwords from the text\u001b[0m\u001b[1;33m\u001b[0m\u001b[1;33m\u001b[0m\u001b[0m\n\u001b[1;32m----> 6\u001b[1;33m \u001b[0mstop_words\u001b[0m \u001b[1;33m=\u001b[0m \u001b[0mset\u001b[0m\u001b[1;33m(\u001b[0m\u001b[0mstopwords\u001b[0m\u001b[1;33m.\u001b[0m\u001b[0mwords\u001b[0m\u001b[1;33m(\u001b[0m\u001b[1;34m'english'\u001b[0m\u001b[1;33m)\u001b[0m\u001b[1;33m)\u001b[0m\u001b[1;33m\u001b[0m\u001b[1;33m\u001b[0m\u001b[0m\n\u001b[0m\u001b[0;32m      7\u001b[0m \u001b[0mspam_text\u001b[0m \u001b[1;33m=\u001b[0m \u001b[1;34m' '\u001b[0m\u001b[1;33m.\u001b[0m\u001b[0mjoin\u001b[0m\u001b[1;33m(\u001b[0m\u001b[1;33m[\u001b[0m\u001b[0mword\u001b[0m \u001b[1;32mfor\u001b[0m \u001b[0mword\u001b[0m \u001b[1;32min\u001b[0m \u001b[0mspam_text\u001b[0m\u001b[1;33m.\u001b[0m\u001b[0msplit\u001b[0m\u001b[1;33m(\u001b[0m\u001b[1;33m)\u001b[0m \u001b[1;32mif\u001b[0m \u001b[0mword\u001b[0m\u001b[1;33m.\u001b[0m\u001b[0mlower\u001b[0m\u001b[1;33m(\u001b[0m\u001b[1;33m)\u001b[0m \u001b[1;32mnot\u001b[0m \u001b[1;32min\u001b[0m \u001b[0mstop_words\u001b[0m\u001b[1;33m]\u001b[0m\u001b[1;33m)\u001b[0m\u001b[1;33m\u001b[0m\u001b[1;33m\u001b[0m\u001b[0m\n\u001b[0;32m      8\u001b[0m \u001b[0mham_text\u001b[0m \u001b[1;33m=\u001b[0m \u001b[1;34m' '\u001b[0m\u001b[1;33m.\u001b[0m\u001b[0mjoin\u001b[0m\u001b[1;33m(\u001b[0m\u001b[1;33m[\u001b[0m\u001b[0mword\u001b[0m \u001b[1;32mfor\u001b[0m \u001b[0mword\u001b[0m \u001b[1;32min\u001b[0m \u001b[0mham_text\u001b[0m\u001b[1;33m.\u001b[0m\u001b[0msplit\u001b[0m\u001b[1;33m(\u001b[0m\u001b[1;33m)\u001b[0m \u001b[1;32mif\u001b[0m \u001b[0mword\u001b[0m\u001b[1;33m.\u001b[0m\u001b[0mlower\u001b[0m\u001b[1;33m(\u001b[0m\u001b[1;33m)\u001b[0m \u001b[1;32mnot\u001b[0m \u001b[1;32min\u001b[0m \u001b[0mstop_words\u001b[0m\u001b[1;33m]\u001b[0m\u001b[1;33m)\u001b[0m\u001b[1;33m\u001b[0m\u001b[1;33m\u001b[0m\u001b[0m\n",
      "\u001b[1;31mNameError\u001b[0m: name 'stopwords' is not defined"
     ]
    }
   ],
   "source": [
    "# Split the text into spam and not spam messages\n",
    "spam_text = ' '.join(df[df['target'] == 'spam']['sentences'])\n",
    "ham_text = ' '.join(df[df['target'] == 'ham']['sentences'])\n",
    "\n",
    "# Remove stopwords from the text\n",
    "stop_words = set(stopwords.words('english'))\n",
    "spam_text = ' '.join([word for word in spam_text.split() if word.lower() not in stop_words])\n",
    "ham_text = ' '.join([word for word in ham_text.split() if word.lower() not in stop_words])\n",
    "\n",
    "# Create a WordCloud object for spam messages\n",
    "spam_wordcloud = WordCloud(width=800, height=400, background_color='white').generate(spam_text)\n",
    "\n",
    "# Create a WordCloud object for not spam messages\n",
    "ham_wordcloud = WordCloud(width=800, height=400, background_color='white').generate(ham_text)\n",
    "\n",
    "# Plot the WordCloud for spam messages\n",
    "plt.figure(figsize=(15, 8))\n",
    "plt.imshow(spam_wordcloud, interpolation='bilinear')\n",
    "plt.axis('off')\n",
    "plt.title('WordCloud for Spam Messages')\n",
    "plt.show()\n",
    "\n",
    "# Plot the WordCloud for not spam messages\n",
    "plt.figure(figsize=(15, 8))\n",
    "plt.imshow(ham_wordcloud, interpolation='bilinear')\n",
    "plt.axis('off')\n",
    "plt.title('WordCloud for Not Spam Messages')\n",
    "plt.show()"
   ]
  },
  {
   "attachments": {},
   "cell_type": "markdown",
   "metadata": {},
   "source": [
    "In the world clouds we can see a big difference between the most common words in the two categories"
   ]
  },
  {
   "attachments": {},
   "cell_type": "markdown",
   "metadata": {},
   "source": [
    "4. Let's analyze the ngrams in the sentences\n",
    "\n",
    "* But what's N-grams ? N-grams are contiguous sequences of N elements in a given string or text. Elements are usually words, but they can also be characters or symbols, depending on the context in which they are being used.\n",
    "\n",
    "* For example Good Morning, how many times morning appears with good in a sentence ? This a example of bi-gram "
   ]
  },
  {
   "cell_type": "code",
   "execution_count": 27,
   "metadata": {},
   "outputs": [],
   "source": [
    "from nltk import ngrams\n",
    "from collections import Counter"
   ]
  },
  {
   "cell_type": "code",
   "execution_count": 28,
   "metadata": {},
   "outputs": [
    {
     "name": "stdout",
     "output_type": "stream",
     "text": [
      "[(('you', 'have'), 66), (('have', 'won'), 44), (('your', 'mobile'), 43), (('please', 'call'), 39), (('this', 'is'), 38), (('to', 'contact'), 36), (('won', 'a'), 33), (('to', 'claim'), 32), (('you', 'are'), 29), (('stop', 'to'), 27)]\n"
     ]
    }
   ],
   "source": [
    "tokens = spam_text.split()\n",
    "\n",
    "n = 2\n",
    "\n",
    "bigrams = ngrams(tokens, n)\n",
    "\n",
    "bigram_freq = Counter(bigrams)\n",
    "\n",
    "print(bigram_freq.most_common(10))"
   ]
  },
  {
   "attachments": {},
   "cell_type": "markdown",
   "metadata": {},
   "source": [
    "\"Please call\" is the pattern that more appears in bigrams"
   ]
  },
  {
   "cell_type": "code",
   "execution_count": 29,
   "metadata": {},
   "outputs": [
    {
     "name": "stdout",
     "output_type": "stream",
     "text": [
      "[(('you', 'have', 'won'), 29), (('have', 'won', 'a'), 26), (('prize', 'guaranteed.', 'call'), 17), (('urgent!', 'your', 'mobile'), 16), (('account', 'statement', 'for'), 15), (('trying', 'to', 'contact'), 14), (('cash', 'or', 'a'), 14), (('reply', 'or', 'call'), 14), (('from', 'land', 'line.'), 14), (('2nd', 'attempt', 'to'), 14)]\n"
     ]
    }
   ],
   "source": [
    "tokens = spam_text.split()\n",
    "\n",
    "n = 3\n",
    "\n",
    "trigrams = ngrams(tokens, n)\n",
    "\n",
    "trigram_freq = Counter(trigrams)\n",
    "\n",
    "print(trigram_freq.most_common(10))"
   ]
  },
  {
   "attachments": {},
   "cell_type": "markdown",
   "metadata": {},
   "source": [
    "\"Prize guaranteed call\" is the pattern that more appears in trigams"
   ]
  },
  {
   "cell_type": "markdown",
   "metadata": {},
   "source": [
    "## Results EDA"
   ]
  },
  {
   "attachments": {},
   "cell_type": "markdown",
   "metadata": {},
   "source": [
    "* The word <b>call</b> is a word of strong impact for spam messages, malicious people in spam messages always seem to try to convert victims to calls.\n",
    "* Exclamation <b>\"!\"</b> marks in spam messages are in some cases trying to convey a sense of urgency so that victims fall for the scams, and commercial e-mails.\n",
    "* Several spam messages are <b>larger than normal messages</b>, where different phrases are used to try to convince the victim to click on links, or make a call.\n",
    "* A common type of spam message involving false <b>prizes</b> and <b>rewards</b>"
   ]
  },
  {
   "attachments": {},
   "cell_type": "markdown",
   "metadata": {},
   "source": [
    "# Creating a ML model\n",
    "\n",
    "Let's test some models that handle high dimensionality and different vectorization methods well."
   ]
  },
  {
   "cell_type": "code",
   "execution_count": 34,
   "metadata": {},
   "outputs": [],
   "source": [
    "from sklearn.metrics import precision_score, f1_score\n",
    "from sklearn.naive_bayes import MultinomialNB\n",
    "from sklearn.ensemble import RandomForestClassifier\n",
    "from sklearn.svm import SVC\n",
    "from sklearn.model_selection import train_test_split\n",
    "from sklearn.metrics import accuracy_score, ConfusionMatrixDisplay, confusion_matrix\n",
    "from sklearn.feature_extraction.text import CountVectorizer, TfidfVectorizer\n",
    "from sklearn.model_selection import cross_val_score\n",
    "from sklearn.model_selection import GridSearchCV\n",
    "from nltk.corpus import stopwords\n"
   ]
  },
  {
   "attachments": {},
   "cell_type": "markdown",
   "metadata": {},
   "source": [
    "Let's try Naive Bayes, Random Forest and SVM, let's try with and without stopwords also we will use two types of vectorizers CountVectorizer and TfidfVectorizer"
   ]
  },
  {
   "cell_type": "code",
   "execution_count": 35,
   "metadata": {},
   "outputs": [],
   "source": [
    "stopwords = set(stopwords.words('english'))\n",
    "\n",
    "# convert labels to binary (spam = 1, ham = 0)\n",
    "balanced_df['label'] = balanced_df['target'].map({'ham': 0, 'spam': 1})\n",
    "\n",
    "# Define a function to train and evaluate a Random Forest model\n",
    "def train_rf(X, y, use_bow, use_tfidf, remove_stopwords):\n",
    "    if use_bow:\n",
    "        vec = CountVectorizer(stop_words=stopwords if remove_stopwords else None)\n",
    "    elif use_tfidf:\n",
    "        vec = TfidfVectorizer(stop_words=stopwords if remove_stopwords else None)\n",
    "    else:\n",
    "        return None\n",
    "\n",
    "    X_vec = vec.fit_transform(X)\n",
    "\n",
    "    rf = RandomForestClassifier()\n",
    "    scores = cross_val_score(rf, X_vec, y, cv=5)\n",
    "\n",
    "    return ('Random Forest', use_bow, use_tfidf, remove_stopwords, scores.mean(), scores.std())\n",
    "\n",
    "# Define a function to train and evaluate an SVM model\n",
    "def train_svm(X, y, use_bow, use_tfidf, remove_stopwords):\n",
    "    if use_bow:\n",
    "        vec = CountVectorizer(stop_words=stopwords if remove_stopwords else None)\n",
    "    elif use_tfidf:\n",
    "        vec = TfidfVectorizer(stop_words=stopwords if remove_stopwords else None)\n",
    "    else:\n",
    "        return None\n",
    "\n",
    "    X_vec = vec.fit_transform(X)\n",
    "\n",
    "    svm = SVC()\n",
    "    scores = cross_val_score(svm, X_vec, y, cv=5)\n",
    "\n",
    "    return ('SVM', use_bow, use_tfidf, remove_stopwords, scores.mean(), scores.std())\n",
    "\n",
    "# Define a function to train and evaluate a Naive Bayes model\n",
    "def train_nb(X, y, use_bow, use_tfidf, remove_stopwords):\n",
    "    if use_bow:\n",
    "        vec = CountVectorizer(stop_words=stopwords if remove_stopwords else None)\n",
    "    elif use_tfidf:\n",
    "        vec = TfidfVectorizer(stop_words=stopwords if remove_stopwords else None)\n",
    "    else:\n",
    "        return None\n",
    "\n",
    "    X_vec = vec.fit_transform(X)\n",
    "\n",
    "    nb = MultinomialNB()\n",
    "    scores = cross_val_score(nb, X_vec, y, cv=5)\n",
    "\n",
    "    return ('Naive Bayes', use_bow, use_tfidf, remove_stopwords, scores.mean(), scores.std())\n",
    "\n",
    "# Define a list of models to train and evaluate\n",
    "models = [\n",
    "    train_rf,\n",
    "    train_svm,\n",
    "    train_nb,\n",
    "]\n",
    "\n",
    "# Define a list of text representation techniques to use\n",
    "text_reps = [\n",
    "    (False, False),\n",
    "    (True, False),\n",
    "    (False, True),\n",
    "    (True, True),\n",
    "]\n",
    "\n",
    "results = []\n",
    "for model in models:\n",
    "    for use_bow, use_tfidf in text_reps:\n",
    "        for remove_stopwords in [True, False]:\n",
    "            result = model(balanced_df['sentences'], balanced_df['label'], use_bow, use_tfidf, remove_stopwords)\n",
    "            if result is not None:\n",
    "                results.append(result)"
   ]
  },
  {
   "attachments": {},
   "cell_type": "markdown",
   "metadata": {},
   "source": [
    "Now let's evaluate which are the best models"
   ]
  },
  {
   "cell_type": "code",
   "execution_count": 36,
   "metadata": {},
   "outputs": [
    {
     "data": {
      "text/html": [
       "<div>\n",
       "<style scoped>\n",
       "    .dataframe tbody tr th:only-of-type {\n",
       "        vertical-align: middle;\n",
       "    }\n",
       "\n",
       "    .dataframe tbody tr th {\n",
       "        vertical-align: top;\n",
       "    }\n",
       "\n",
       "    .dataframe thead th {\n",
       "        text-align: right;\n",
       "    }\n",
       "</style>\n",
       "<table border=\"1\" class=\"dataframe\">\n",
       "  <thead>\n",
       "    <tr style=\"text-align: right;\">\n",
       "      <th></th>\n",
       "      <th>Model</th>\n",
       "      <th>Bow</th>\n",
       "      <th>TFidf</th>\n",
       "      <th>R_stopwords</th>\n",
       "      <th>Mean_Acc</th>\n",
       "      <th>Std</th>\n",
       "    </tr>\n",
       "  </thead>\n",
       "  <tbody>\n",
       "    <tr>\n",
       "      <th>13</th>\n",
       "      <td>Naive Bayes</td>\n",
       "      <td>True</td>\n",
       "      <td>False</td>\n",
       "      <td>False</td>\n",
       "      <td>0.955582</td>\n",
       "      <td>0.013855</td>\n",
       "    </tr>\n",
       "    <tr>\n",
       "      <th>17</th>\n",
       "      <td>Naive Bayes</td>\n",
       "      <td>True</td>\n",
       "      <td>True</td>\n",
       "      <td>False</td>\n",
       "      <td>0.955582</td>\n",
       "      <td>0.013855</td>\n",
       "    </tr>\n",
       "    <tr>\n",
       "      <th>3</th>\n",
       "      <td>Random Forest</td>\n",
       "      <td>False</td>\n",
       "      <td>True</td>\n",
       "      <td>False</td>\n",
       "      <td>0.954816</td>\n",
       "      <td>0.009226</td>\n",
       "    </tr>\n",
       "    <tr>\n",
       "      <th>15</th>\n",
       "      <td>Naive Bayes</td>\n",
       "      <td>False</td>\n",
       "      <td>True</td>\n",
       "      <td>False</td>\n",
       "      <td>0.954052</td>\n",
       "      <td>0.016088</td>\n",
       "    </tr>\n",
       "    <tr>\n",
       "      <th>1</th>\n",
       "      <td>Random Forest</td>\n",
       "      <td>True</td>\n",
       "      <td>False</td>\n",
       "      <td>False</td>\n",
       "      <td>0.949457</td>\n",
       "      <td>0.011993</td>\n",
       "    </tr>\n",
       "    <tr>\n",
       "      <th>5</th>\n",
       "      <td>Random Forest</td>\n",
       "      <td>True</td>\n",
       "      <td>True</td>\n",
       "      <td>False</td>\n",
       "      <td>0.949455</td>\n",
       "      <td>0.013166</td>\n",
       "    </tr>\n",
       "    <tr>\n",
       "      <th>4</th>\n",
       "      <td>Random Forest</td>\n",
       "      <td>True</td>\n",
       "      <td>True</td>\n",
       "      <td>True</td>\n",
       "      <td>0.947931</td>\n",
       "      <td>0.014865</td>\n",
       "    </tr>\n",
       "    <tr>\n",
       "      <th>9</th>\n",
       "      <td>SVM</td>\n",
       "      <td>False</td>\n",
       "      <td>True</td>\n",
       "      <td>False</td>\n",
       "      <td>0.947913</td>\n",
       "      <td>0.023214</td>\n",
       "    </tr>\n",
       "    <tr>\n",
       "      <th>2</th>\n",
       "      <td>Random Forest</td>\n",
       "      <td>False</td>\n",
       "      <td>True</td>\n",
       "      <td>True</td>\n",
       "      <td>0.946407</td>\n",
       "      <td>0.019518</td>\n",
       "    </tr>\n",
       "    <tr>\n",
       "      <th>14</th>\n",
       "      <td>Naive Bayes</td>\n",
       "      <td>False</td>\n",
       "      <td>True</td>\n",
       "      <td>True</td>\n",
       "      <td>0.944108</td>\n",
       "      <td>0.014842</td>\n",
       "    </tr>\n",
       "    <tr>\n",
       "      <th>12</th>\n",
       "      <td>Naive Bayes</td>\n",
       "      <td>True</td>\n",
       "      <td>False</td>\n",
       "      <td>True</td>\n",
       "      <td>0.943342</td>\n",
       "      <td>0.015578</td>\n",
       "    </tr>\n",
       "    <tr>\n",
       "      <th>16</th>\n",
       "      <td>Naive Bayes</td>\n",
       "      <td>True</td>\n",
       "      <td>True</td>\n",
       "      <td>True</td>\n",
       "      <td>0.943342</td>\n",
       "      <td>0.015578</td>\n",
       "    </tr>\n",
       "    <tr>\n",
       "      <th>8</th>\n",
       "      <td>SVM</td>\n",
       "      <td>False</td>\n",
       "      <td>True</td>\n",
       "      <td>True</td>\n",
       "      <td>0.941025</td>\n",
       "      <td>0.014701</td>\n",
       "    </tr>\n",
       "    <tr>\n",
       "      <th>0</th>\n",
       "      <td>Random Forest</td>\n",
       "      <td>True</td>\n",
       "      <td>False</td>\n",
       "      <td>True</td>\n",
       "      <td>0.940271</td>\n",
       "      <td>0.016016</td>\n",
       "    </tr>\n",
       "    <tr>\n",
       "      <th>6</th>\n",
       "      <td>SVM</td>\n",
       "      <td>True</td>\n",
       "      <td>False</td>\n",
       "      <td>True</td>\n",
       "      <td>0.934138</td>\n",
       "      <td>0.013838</td>\n",
       "    </tr>\n",
       "    <tr>\n",
       "      <th>10</th>\n",
       "      <td>SVM</td>\n",
       "      <td>True</td>\n",
       "      <td>True</td>\n",
       "      <td>True</td>\n",
       "      <td>0.934138</td>\n",
       "      <td>0.013838</td>\n",
       "    </tr>\n",
       "    <tr>\n",
       "      <th>7</th>\n",
       "      <td>SVM</td>\n",
       "      <td>True</td>\n",
       "      <td>False</td>\n",
       "      <td>False</td>\n",
       "      <td>0.931836</td>\n",
       "      <td>0.016375</td>\n",
       "    </tr>\n",
       "    <tr>\n",
       "      <th>11</th>\n",
       "      <td>SVM</td>\n",
       "      <td>True</td>\n",
       "      <td>True</td>\n",
       "      <td>False</td>\n",
       "      <td>0.931836</td>\n",
       "      <td>0.016375</td>\n",
       "    </tr>\n",
       "  </tbody>\n",
       "</table>\n",
       "</div>"
      ],
      "text/plain": [
       "            Model    Bow  TFidf  R_stopwords  Mean_Acc       Std\n",
       "13    Naive Bayes   True  False        False  0.955582  0.013855\n",
       "17    Naive Bayes   True   True        False  0.955582  0.013855\n",
       "3   Random Forest  False   True        False  0.954816  0.009226\n",
       "15    Naive Bayes  False   True        False  0.954052  0.016088\n",
       "1   Random Forest   True  False        False  0.949457  0.011993\n",
       "5   Random Forest   True   True        False  0.949455  0.013166\n",
       "4   Random Forest   True   True         True  0.947931  0.014865\n",
       "9             SVM  False   True        False  0.947913  0.023214\n",
       "2   Random Forest  False   True         True  0.946407  0.019518\n",
       "14    Naive Bayes  False   True         True  0.944108  0.014842\n",
       "12    Naive Bayes   True  False         True  0.943342  0.015578\n",
       "16    Naive Bayes   True   True         True  0.943342  0.015578\n",
       "8             SVM  False   True         True  0.941025  0.014701\n",
       "0   Random Forest   True  False         True  0.940271  0.016016\n",
       "6             SVM   True  False         True  0.934138  0.013838\n",
       "10            SVM   True   True         True  0.934138  0.013838\n",
       "7             SVM   True  False        False  0.931836  0.016375\n",
       "11            SVM   True   True        False  0.931836  0.016375"
      ]
     },
     "execution_count": 36,
     "metadata": {},
     "output_type": "execute_result"
    }
   ],
   "source": [
    "result = pd.DataFrame(results, columns=['Model', 'Bow', 'TFidf','R_stopwords', 'Mean_Acc', 'Std', ])\n",
    "result = result.sort_values(by=['Mean_Acc', 'Model'], ascending=False)\n",
    "result"
   ]
  },
  {
   "attachments": {},
   "cell_type": "markdown",
   "metadata": {},
   "source": [
    "We were able to observe the following results, all models had above 90% accuracy which is good accuracy, the models without stopwords performed worse than those with stopwords, probably some stopwords have a strong impact on the classification, also the tfidf method had more results positive than the bagofwords method."
   ]
  },
  {
   "attachments": {},
   "cell_type": "markdown",
   "metadata": {},
   "source": [
    "Despite the high accuracy, it may not be the best metric for evaluating our model, in this case, we will look for a model that minimizes normal messages in the spam box, but on the other hand, this can increase the amount of spam messages in the inbox, let's accept this trade off"
   ]
  },
  {
   "cell_type": "code",
   "execution_count": 37,
   "metadata": {},
   "outputs": [
    {
     "data": {
      "image/png": "[encoded data removed]",
      "text/plain": [
       "<Figure size 576x432 with 2 Axes>"
      ]
     },
     "metadata": {
      "needs_background": "light"
     },
     "output_type": "display_data"
    },
    {
     "data": {
      "image/png": "[encoded data removed]",
      "text/plain": [
       "<Figure size 576x432 with 2 Axes>"
      ]
     },
     "metadata": {
      "needs_background": "light"
     },
     "output_type": "display_data"
    },
    {
     "data": {
      "image/png": "[encoded data removed]",
      "text/plain": [
       "<Figure size 576x432 with 2 Axes>"
      ]
     },
     "metadata": {
      "needs_background": "light"
     },
     "output_type": "display_data"
    },
    {
     "data": {
      "image/png": "[encoded data removed]",
      "text/plain": [
       "<Figure size 576x432 with 2 Axes>"
      ]
     },
     "metadata": {
      "needs_background": "light"
     },
     "output_type": "display_data"
    },
    {
     "data": {
      "image/png": "[encoded data removed]",
      "text/plain": [
       "<Figure size 576x432 with 2 Axes>"
      ]
     },
     "metadata": {
      "needs_background": "light"
     },
     "output_type": "display_data"
    },
    {
     "data": {
      "image/png": "[encoded data removed]",
      "text/plain": [
       "<Figure size 576x432 with 2 Axes>"
      ]
     },
     "metadata": {
      "needs_background": "light"
     },
     "output_type": "display_data"
    }
   ],
   "source": [
    "# Split the dataset into training and testing sets\n",
    "X_train, X_test, y_train, y_test = train_test_split(balanced_df['sentences'], balanced_df['label'], test_size=0.2, random_state=7)\n",
    "\n",
    "# Define a function to train and evaluate a Random Forest model\n",
    "def train_rf(X_train, y_train, X_test, y_test, use_bow, use_tfidf):\n",
    "    if use_bow:\n",
    "        vec = CountVectorizer()\n",
    "    elif use_tfidf:\n",
    "        vec = TfidfVectorizer()\n",
    "    else:\n",
    "        return None\n",
    "\n",
    "    X_train_vec = vec.fit_transform(X_train)\n",
    "    X_test_vec = vec.transform(X_test)\n",
    "\n",
    "    rf = RandomForestClassifier()\n",
    "    rf.fit(X_train_vec, y_train)\n",
    "\n",
    "    y_pred = rf.predict(X_test_vec)\n",
    "\n",
    "    accuracy = accuracy_score(y_test, y_pred)\n",
    "    precision = precision_score(y_test, y_pred)\n",
    "    f1 = f1_score(y_test, y_pred)\n",
    "    cm = confusion_matrix(y_test, y_pred)\n",
    "\n",
    "    return ('Random Forest', use_bow, use_tfidf, accuracy, precision, f1, cm)\n",
    "\n",
    "# Define a function to train and evaluate a Naive Bayes model\n",
    "def train_nb(X_train, y_train, X_test, y_test, use_bow, use_tfidf):\n",
    "    if use_bow:\n",
    "        vec = CountVectorizer()\n",
    "    elif use_tfidf:\n",
    "        vec = TfidfVectorizer()\n",
    "    else:\n",
    "        return None\n",
    "\n",
    "    X_train_vec = vec.fit_transform(X_train)\n",
    "    X_test_vec = vec.transform(X_test)\n",
    "\n",
    "    nb = MultinomialNB()\n",
    "    nb.fit(X_train_vec, y_train)\n",
    "\n",
    "    y_pred = nb.predict(X_test_vec)\n",
    "\n",
    "    accuracy = accuracy_score(y_test, y_pred)\n",
    "    precision = precision_score(y_test, y_pred)\n",
    "    f1 = f1_score(y_test, y_pred)\n",
    "    cm = confusion_matrix(y_test, y_pred)\n",
    "\n",
    "    return ('Naive Bayes', use_bow, use_tfidf, accuracy, precision, f1, cm)\n",
    "\n",
    "# Define a list of models to train and evaluate\n",
    "models = [\n",
    "    train_rf,\n",
    "    train_nb,\n",
    "]\n",
    "\n",
    "results = []\n",
    "for model in models:\n",
    "    for use_bow, use_tfidf in text_reps:\n",
    "        result = model(X_train, y_train, X_test, y_test, use_bow, use_tfidf)\n",
    "        if result is not None:\n",
    "            results.append(result)\n",
    "\n",
    "for result in results:\n",
    "    fig, ax = plt.subplots(figsize=(8, 6))\n",
    "    cm = ConfusionMatrixDisplay(result[6], display_labels=['ham', 'spam'])\n",
    "    cm.plot(ax=ax)\n",
    "    plt.title(f'Model: {result[0]}, Bow: {result[1]}, Tfidf: {result[2]}, Precision: {result[4]}, F1 score: {result[5]}', fontsize=18)\n"
   ]
  },
  {
   "attachments": {},
   "cell_type": "markdown",
   "metadata": {},
   "source": [
    "With the models that performed well before, we will select the best ones that perform in relation to the precision_score, precision measures how well a classifier is able to identify true positive cases, while minimizing the number of false positives. A high precision score means that the classifier is very good at correctly predicting positive cases, and has a low false positive rate."
   ]
  },
  {
   "attachments": {},
   "cell_type": "markdown",
   "metadata": {},
   "source": [
    "The best was the Random Forest"
   ]
  },
  {
   "cell_type": "code",
   "execution_count": 38,
   "metadata": {},
   "outputs": [],
   "source": [
    "# Define a function to train and evaluate a Random Forest model\n",
    "def train_rf(X_train, y_train, X_test, y_test, use_bow, use_tfidf):\n",
    "    if use_bow:\n",
    "        vec = CountVectorizer()\n",
    "    elif use_tfidf:\n",
    "        vec = TfidfVectorizer(max_df=0.98)\n",
    "    else:\n",
    "        return None\n",
    "\n",
    "    X_train_vec = vec.fit_transform(X_train)\n",
    "    X_test_vec = vec.transform(X_test)\n",
    "\n",
    "    rf = RandomForestClassifier()\n",
    "    rf.fit(X_train_vec, y_train)\n",
    "\n",
    "    y_pred = rf.predict(X_test_vec)\n",
    "\n",
    "    accuracy = accuracy_score(y_test, y_pred)\n",
    "    precision = precision_score(y_test, y_pred)\n",
    "    f1 = f1_score(y_test, y_pred)\n",
    "    cm = confusion_matrix(y_test, y_pred)\n",
    "\n",
    "    return (rf, X_test_vec, 'Random Forest', use_bow, use_tfidf, accuracy, precision, f1, cm)\n",
    "\n",
    "rf, X_test_vec, *_ = train_rf(X_train=X_train, y_train=y_train, X_test=X_test, y_test=y_test, use_bow=False, use_tfidf=True)\n"
   ]
  },
  {
   "attachments": {},
   "cell_type": "markdown",
   "metadata": {},
   "source": [
    "Let's see some of the erros in the predicts"
   ]
  },
  {
   "cell_type": "code",
   "execution_count": 39,
   "metadata": {},
   "outputs": [
    {
     "name": "stdout",
     "output_type": "stream",
     "text": [
      "recpt 1/3. you have ordered a ringtone. your order is being processed... \n",
      "Prediction: 0 \n",
      "\n",
      "do you ever notice that when you are driving, anyone going slower than you is an idiot and everyone driving faster than you is a maniac? \n",
      "Prediction: 0 \n",
      "\n",
      "latest news! police station toilet stolen, cops have nothing to go on! \n",
      "Prediction: 0 \n",
      "\n",
      "sorry i missed your call let us talk when you have the time. I am on 07090201529 \n",
      "Prediction: 0 \n",
      "\n",
      "asked 3mobile if 0870 chatlines inclu in free mins. india cust servs sed yes. l8er got mega bill. 3 dont giv a shit. bailiff due in days. i o å£250 3 want å£800 \n",
      "Prediction: 0 \n",
      "\n",
      "i (career tel) have added u as a contact on indyarocks.com to send free sms. to remove from phonebook - sms no to  &lt;#&gt; \n",
      "Prediction: 1 \n",
      "\n",
      "08714712388 between 10am-7pm cost 10p \n",
      "Prediction: 0 \n",
      "\n",
      "hi its me you are probably having too much fun to get this message but i thought id txt u cos im bored! and james has been farting at me all night \n",
      "Prediction: 1 \n",
      "\n",
      "fantasy football is back on your tv. go to sky gamestar on sky active and play å£250k dream team. scoring starts on saturday, so register now!sky opt out to 88088 \n",
      "Prediction: 0 \n",
      "\n",
      "did you hear about the new \\divorce barbie\\\"? it comes with all of ken's stuff!\" \n",
      "Prediction: 0 \n",
      "\n",
      "hi hope u get this txt~journey hasnt been gd,now about 50 mins late i think. \n",
      "Prediction: 1 \n",
      "\n",
      "call freephone 0800 542 0578 now! \n",
      "Prediction: 0 \n",
      "\n",
      "how come it takes so little time for a child who is afraid of the dark to become a teenager who wants to stay out all night? \n",
      "Prediction: 0 \n",
      "\n",
      "hello darling how are you today? i would love to have a chat, why dont you tell me what you look like and what you are in to sexy? \n",
      "Prediction: 0 \n",
      "\n"
     ]
    }
   ],
   "source": [
    "error_predictions = pd.DataFrame()\n",
    "error_predictions['X_test'] = X_test\n",
    "error_predictions['Prediction'] = rf.predict(X_test_vec)\n",
    "error_predictions['Real'] = y_test\n",
    "error_predictions['Error'] = error_predictions['Prediction'] != error_predictions['Real']\n",
    "error_predictions = error_predictions[error_predictions['Error']==True]\n",
    "\n",
    "for line, value in error_predictions.iterrows():\n",
    "    print(value['X_test'], '\\nPrediction:', value['Prediction'], '\\n')"
   ]
  },
  {
   "attachments": {},
   "cell_type": "markdown",
   "metadata": {},
   "source": [
    "Now let's evalute the model with the best params, we will use gridsearch to test some differents params"
   ]
  },
  {
   "cell_type": "code",
   "execution_count": 40,
   "metadata": {},
   "outputs": [
    {
     "name": "stdout",
     "output_type": "stream",
     "text": [
      "Best parameters: {'max_depth': 5, 'min_samples_leaf': 2, 'min_samples_split': 2, 'n_estimators': 200}\n",
      "Best precision: 1.0\n"
     ]
    }
   ],
   "source": [
    "# Define the parameter grid to search over\n",
    "param_grid = {\n",
    "    'n_estimators': [50, 100, 200],\n",
    "    'max_depth': [5, 10, 20],\n",
    "    'min_samples_split': [2, 5],\n",
    "    'min_samples_leaf': [2, 3],\n",
    "}\n",
    "\n",
    "# Create the Random Forest model and vectorizer\n",
    "vec = TfidfVectorizer(max_df=0.98)\n",
    "rf = RandomForestClassifier()\n",
    "\n",
    "# Create the GridSearchCV object\n",
    "grid_search = GridSearchCV(estimator=rf, param_grid=param_grid, scoring='precision', cv=5)\n",
    "\n",
    "# Fit the GridSearchCV object to the training data\n",
    "grid_search.fit(vec.fit_transform(X_train), y_train)\n",
    "\n",
    "# Print the best parameter values and the corresponding accuracy score\n",
    "print('Best parameters:', grid_search.best_params_)\n",
    "print('Best precision:', grid_search.best_score_)"
   ]
  },
  {
   "attachments": {},
   "cell_type": "markdown",
   "metadata": {},
   "source": [
    "Finally with the best parms with focus in precision, let's see the results"
   ]
  },
  {
   "cell_type": "code",
   "execution_count": 41,
   "metadata": {},
   "outputs": [
    {
     "data": {
      "text/plain": [
       "<sklearn.metrics._plot.confusion_matrix.ConfusionMatrixDisplay at 0x25ddac81d00>"
      ]
     },
     "execution_count": 41,
     "metadata": {},
     "output_type": "execute_result"
    },
    {
     "data": {
      "image/png": "[encoded data removed]",
      "text/plain": [
       "<Figure size 576x432 with 2 Axes>"
      ]
     },
     "metadata": {
      "needs_background": "light"
     },
     "output_type": "display_data"
    }
   ],
   "source": [
    "from sklearn.pipeline import Pipeline\n",
    "\n",
    "# Create the pipeline\n",
    "pipeline = Pipeline([\n",
    "    ('vec', TfidfVectorizer()),\n",
    "    ('rf', RandomForestClassifier(max_depth=10, min_samples_leaf=2, min_samples_split=5, n_estimators=200))\n",
    "])\n",
    "\n",
    "# Fit the pipeline\n",
    "pipeline.fit(X_train, y_train)\n",
    "\n",
    "# Make predictions\n",
    "predicted = pipeline.predict(X_test)\n",
    "\n",
    "# Confusion Matrix\n",
    "cm = confusion_matrix(y_test, predicted)\n",
    "\n",
    "# Plotting the Confusion Matrix\n",
    "fig, ax = plt.subplots(figsize=(8, 6))\n",
    "cm = ConfusionMatrixDisplay(cm, display_labels=['ham', 'spam'])\n",
    "cm.plot(ax=ax)"
   ]
  },
  {
   "attachments": {},
   "cell_type": "markdown",
   "metadata": {},
   "source": [
    "4 ham messages classified as spam, that's a good result, now we can save the model and create our software that will classify e-mails."
   ]
  },
  {
   "cell_type": "code",
   "execution_count": 48,
   "metadata": {},
   "outputs": [
    {
     "data": {
      "image/png": "[encoded data removed]",
      "text/plain": [
       "<Figure size 576x432 with 2 Axes>"
      ]
     },
     "metadata": {
      "needs_background": "light"
     },
     "output_type": "display_data"
    }
   ],
   "source": [
    "import joblib\n",
    "\n",
    "# Create the pipeline\n",
    "pipeline = Pipeline([\n",
    "    ('vec', TfidfVectorizer()),\n",
    "    ('rf', RandomForestClassifier(max_depth=10, min_samples_leaf=2, min_samples_split=5, n_estimators=200))\n",
    "])\n",
    "\n",
    "pipeline.fit(balanced_df['sentences'], balanced_df['label'])\n",
    "\n",
    "# Make predictions\n",
    "predicted = pipeline.predict(balanced_df['sentences'])\n",
    "\n",
    "# Confusion Matrix\n",
    "cm = confusion_matrix(balanced_df['label'], predicted)\n",
    "\n",
    "# Plotting the Confusion Matrix\n",
    "fig, ax = plt.subplots(figsize=(8, 6))\n",
    "cm = ConfusionMatrixDisplay(cm, display_labels=['ham', 'spam'])\n",
    "cm.plot(ax=ax);\n",
    "\n",
    "# Save the trained pipeline\n",
    "joblib.dump(pipeline, 'spam_detection_pipeline.joblib')\n",
    "\n",
    "# Load the pipeline in the deployment environment\n",
    "loaded_pipeline = joblib.load('spam_detection_pipeline.joblib')"
   ]
  }
 ],
 "metadata": {
  "kernelspec": {
   "display_name": "base",
   "language": "python",
   "name": "python3"
  },
  "language_info": {
   "codemirror_mode": {
    "name": "ipython",
    "version": 3
   },
   "file_extension": ".py",
   "mimetype": "text/x-python",
   "name": "python",
   "nbconvert_exporter": "python",
   "pygments_lexer": "ipython3",
   "version": "3.9.7"
  },
  "orig_nbformat": 4
 },
 "nbformat": 4,
 "nbformat_minor": 2
}
