{
 "cells": [
  {
   "attachments": {},
   "cell_type": "markdown",
   "metadata": {},
   "source": [
    "NLP"
   ]
  },
  {
   "attachments": {},
   "cell_type": "markdown",
   "metadata": {},
   "source": [
    "* Natural Language Processing (NLP)\n",
    "* Tokenization\n",
    "* Stop words\n",
    "* Stemming\n",
    "* Lemmatization\n",
    "* Part-of-speech (POS) tagging\n",
    "* Named entity recognition (NER)\n",
    "* Sentiment analysis\n",
    "* Topic modeling\n",
    "* Word embeddings\n",
    "* Language modeling\n",
    "* Machine translation\n",
    "* Text classification\n",
    "* Information extraction\n",
    "* Speech recognition\n",
    "* Dialogue systems\n",
    "* Question answering\n",
    "* Text generation\n",
    "* Text summarization\n",
    "* Sequence-to-sequence models\n",
    "* Transformer models\n",
    "* Attention mechanism\n",
    "* Recurrent neural networks (RNNs)\n",
    "* Convolutional neural networks (CNNs)\n",
    "* Transfer learning in NLP."
   ]
  },
  {
   "cell_type": "markdown",
   "metadata": {},
   "source": []
  }
 ],
 "metadata": {
  "language_info": {
   "name": "python"
  },
  "orig_nbformat": 4
 },
 "nbformat": 4,
 "nbformat_minor": 2
}
