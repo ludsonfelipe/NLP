{
 "cells": [
  {
   "attachments": {},
   "cell_type": "markdown",
   "metadata": {},
   "source": [
    "NLP"
   ]
  },
  {
   "attachments": {},
   "cell_type": "markdown",
   "metadata": {},
   "source": [
    "* Natural Language Processing (NLP)\n",
    "* Tokenization\n",
    "* Stop words\n",
    "* Stemming\n",
    "* Lemmatization\n",
    "* Part-of-speech (POS) tagging\n",
    "* Named entity recognition (NER)\n",
    "* Sentiment analysis\n",
    "* Topic modeling\n",
    "* Word embeddings\n",
    "* Language modeling\n",
    "* Machine translation\n",
    "* Text classification\n",
    "* Information extraction\n",
    "* Speech recognition\n",
    "* Dialogue systems\n",
    "* Question answering\n",
    "* Text generation\n",
    "* Text summarization\n",
    "* Sequence-to-sequence models\n",
    "* Transformer models\n",
    "* Attention mechanism\n",
    "* Recurrent neural networks (RNNs)\n",
    "* Convolutional neural networks (CNNs)\n",
    "* Transfer learning in NLP."
   ]
  },
  {
   "cell_type": "markdown",
   "metadata": {},
   "source": [
    "Topic Modelling"
   ]
  },
  {
   "cell_type": "code",
   "execution_count": 4,
   "metadata": {},
   "outputs": [
    {
     "name": "stdout",
     "output_type": "stream",
     "text": [
      "Topic: 0 \n",
      "Words: 0.110*\"banana\" + 0.110*\"orange\" + 0.110*\"juice\" + 0.110*\"fruit\" + 0.110*\"apple\"\n",
      "Topic: 1 \n",
      "Words: 0.073*\"music\" + 0.073*\"movie\" + 0.073*\"entertainment\" + 0.073*\"transportation\" + 0.073*\"car\"\n"
     ]
    }
   ],
   "source": [
    "import gensim\n",
    "from gensim import corpora\n",
    "\n",
    "# Define a corpus of documents (list of lists of words)\n",
    "corpus = [\n",
    "    ['apple', 'banana', 'orange', 'fruit', 'juice'],\n",
    "    ['car', 'bus', 'train', 'transportation'],\n",
    "    ['python', 'java', 'programming', 'language'],\n",
    "    ['movie', 'music', 'entertainment', 'theater']\n",
    "]\n",
    "\n",
    "# Create a dictionary mapping words to unique ids\n",
    "dictionary = corpora.Dictionary(corpus)\n",
    "\n",
    "# Convert the corpus into a bag-of-words representation\n",
    "bow_corpus = [dictionary.doc2bow(doc) for doc in corpus]\n",
    "\n",
    "# Train an LDA model with 2 topics\n",
    "lda_model = gensim.models.LdaModel(bow_corpus, num_topics=2, id2word=dictionary, passes=10)\n",
    "\n",
    "# Print the top 5 words for each topic\n",
    "for idx, topic in lda_model.print_topics(num_words=5):\n",
    "    print('Topic: {} \\nWords: {}'.format(idx, topic))\n"
   ]
  },
  {
   "cell_type": "code",
   "execution_count": null,
   "metadata": {},
   "outputs": [],
   "source": []
  }
 ],
 "metadata": {
  "kernelspec": {
   "display_name": "base",
   "language": "python",
   "name": "python3"
  },
  "language_info": {
   "codemirror_mode": {
    "name": "ipython",
    "version": 3
   },
   "file_extension": ".py",
   "mimetype": "text/x-python",
   "name": "python",
   "nbconvert_exporter": "python",
   "pygments_lexer": "ipython3",
   "version": "3.9.12"
  },
  "orig_nbformat": 4
 },
 "nbformat": 4,
 "nbformat_minor": 2
}
